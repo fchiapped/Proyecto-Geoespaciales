{
 "cells": [
  {
   "cell_type": "markdown",
   "id": "409ecc60",
   "metadata": {},
   "source": [
    "<h1><center>IMT2118 - Ciencia de Datos Geoespaciales (2024-1) </center></h1>\n",
    "<h2><center>Proyecto:   </center></h2>"
   ]
  },
  {
   "cell_type": "markdown",
   "id": "a05ed568",
   "metadata": {},
   "source": [
    "### Imports"
   ]
  },
  {
   "cell_type": "code",
   "execution_count": 8,
   "id": "f1d66a56",
   "metadata": {},
   "outputs": [
    {
     "data": {
      "text/html": [
       "\n",
       "            <style>\n",
       "                .geemap-dark {\n",
       "                    --jp-widgets-color: white;\n",
       "                    --jp-widgets-label-color: white;\n",
       "                    --jp-ui-font-color1: white;\n",
       "                    --jp-layout-color2: #454545;\n",
       "                    background-color: #383838;\n",
       "                }\n",
       "\n",
       "                .geemap-dark .jupyter-button {\n",
       "                    --jp-layout-color3: #383838;\n",
       "                }\n",
       "\n",
       "                .geemap-colab {\n",
       "                    background-color: var(--colab-primary-surface-color, white);\n",
       "                }\n",
       "\n",
       "                .geemap-colab .jupyter-button {\n",
       "                    --jp-layout-color3: var(--colab-primary-surface-color, white);\n",
       "                }\n",
       "            </style>\n",
       "            "
      ],
      "text/plain": [
       "<IPython.core.display.HTML object>"
      ]
     },
     "metadata": {},
     "output_type": "display_data"
    }
   ],
   "source": [
    "import pandas as pd\n",
    "import numpy as np \n",
    "import geopandas as gpd\n",
    "import matplotlib.pyplot as plt\n",
    "import geemap, ee\n",
    "from shapely.geometry import LineString\n",
    "\n",
    "# Initialize Earth Engine\n",
    "ee.Authenticate()\n",
    "ee.Initialize()"
   ]
  },
  {
   "cell_type": "markdown",
   "id": "362ab1e2",
   "metadata": {},
   "source": [
    "### Lectura de Datos"
   ]
  },
  {
   "cell_type": "code",
   "execution_count": 9,
   "id": "a3872f43",
   "metadata": {},
   "outputs": [
    {
     "data": {
      "text/html": [
       "\n",
       "            <style>\n",
       "                .geemap-dark {\n",
       "                    --jp-widgets-color: white;\n",
       "                    --jp-widgets-label-color: white;\n",
       "                    --jp-ui-font-color1: white;\n",
       "                    --jp-layout-color2: #454545;\n",
       "                    background-color: #383838;\n",
       "                }\n",
       "\n",
       "                .geemap-dark .jupyter-button {\n",
       "                    --jp-layout-color3: #383838;\n",
       "                }\n",
       "\n",
       "                .geemap-colab {\n",
       "                    background-color: var(--colab-primary-surface-color, white);\n",
       "                }\n",
       "\n",
       "                .geemap-colab .jupyter-button {\n",
       "                    --jp-layout-color3: var(--colab-primary-surface-color, white);\n",
       "                }\n",
       "            </style>\n",
       "            "
      ],
      "text/plain": [
       "<IPython.core.display.HTML object>"
      ]
     },
     "metadata": {},
     "output_type": "display_data"
    }
   ],
   "source": [
    "stgo = gpd.read_file(\"Datos/santiago_urbano.gpkg\")\n",
    "roi_shapely = stgo.union_all()"
   ]
  },
  {
   "cell_type": "code",
   "execution_count": 10,
   "id": "6c672d7e",
   "metadata": {},
   "outputs": [
    {
     "data": {
      "text/html": [
       "\n",
       "            <style>\n",
       "                .geemap-dark {\n",
       "                    --jp-widgets-color: white;\n",
       "                    --jp-widgets-label-color: white;\n",
       "                    --jp-ui-font-color1: white;\n",
       "                    --jp-layout-color2: #454545;\n",
       "                    background-color: #383838;\n",
       "                }\n",
       "\n",
       "                .geemap-dark .jupyter-button {\n",
       "                    --jp-layout-color3: #383838;\n",
       "                }\n",
       "\n",
       "                .geemap-colab {\n",
       "                    background-color: var(--colab-primary-surface-color, white);\n",
       "                }\n",
       "\n",
       "                .geemap-colab .jupyter-button {\n",
       "                    --jp-layout-color3: var(--colab-primary-surface-color, white);\n",
       "                }\n",
       "            </style>\n",
       "            "
      ],
      "text/plain": [
       "<IPython.core.display.HTML object>"
      ]
     },
     "metadata": {},
     "output_type": "display_data"
    }
   ],
   "source": [
    "Areas_Verdes = gpd.read_file(\"Datos/Areas_Verdes.gpkg\")\n",
    "Bomberos = gpd.read_file(\"Datos/Bomberos.gpkg\")\n",
    "Censo_2017 = gpd.read_file(\"Datos/Censo_2017.gpkg\")\n",
    "Comercio = gpd.read_file(\"Datos/Comercio.gpkg\")\n",
    "Ejes = gpd.read_file(\"Datos/Ejes.gpkg\")\n",
    "EstablecimientosSalud = gpd.read_file(\"Datos/EstablecimientosSalud.gpkg\")\n",
    "Limite_Comunal = gpd.read_file(\"Datos/Limite_Comunal.gpkg\")\n",
    "Manzanas = gpd.read_file(\"Datos/Manzanas.gpkg\")\n",
    "Paraderos = gpd.read_file(\"Datos/Paraderos.gpkg\")"
   ]
  },
  {
   "cell_type": "code",
   "execution_count": 11,
   "id": "3369ae19",
   "metadata": {},
   "outputs": [
    {
     "data": {
      "text/html": [
       "\n",
       "            <style>\n",
       "                .geemap-dark {\n",
       "                    --jp-widgets-color: white;\n",
       "                    --jp-widgets-label-color: white;\n",
       "                    --jp-ui-font-color1: white;\n",
       "                    --jp-layout-color2: #454545;\n",
       "                    background-color: #383838;\n",
       "                }\n",
       "\n",
       "                .geemap-dark .jupyter-button {\n",
       "                    --jp-layout-color3: #383838;\n",
       "                }\n",
       "\n",
       "                .geemap-colab {\n",
       "                    background-color: var(--colab-primary-surface-color, white);\n",
       "                }\n",
       "\n",
       "                .geemap-colab .jupyter-button {\n",
       "                    --jp-layout-color3: var(--colab-primary-surface-color, white);\n",
       "                }\n",
       "            </style>\n",
       "            "
      ],
      "text/plain": [
       "<IPython.core.display.HTML object>"
      ]
     },
     "metadata": {},
     "output_type": "display_data"
    }
   ],
   "source": [
    "Areas_Verdes = Areas_Verdes[Areas_Verdes.geometry.within(roi_shapely)]\n",
    "Bomberos = Bomberos[Bomberos.geometry.within(roi_shapely)]\n",
    "Censo_2017 = Censo_2017[Censo_2017.geometry.within(roi_shapely)]\n",
    "Comercio = Comercio[Comercio.geometry.within(roi_shapely)]\n",
    "Ejes = Ejes[Ejes.geometry.within(roi_shapely)]\n",
    "EstablecimientosSalud = EstablecimientosSalud[EstablecimientosSalud.geometry.within(roi_shapely)]\n",
    "Manzanas = Manzanas[Manzanas.geometry.within(roi_shapely)]\n",
    "Paraderos = Paraderos[Paraderos.geometry.within(roi_shapely)]"
   ]
  },
  {
   "cell_type": "markdown",
   "id": "c209c1ce",
   "metadata": {},
   "source": [
    "### Comunas"
   ]
  },
  {
   "cell_type": "markdown",
   "id": "eb2016b0",
   "metadata": {},
   "source": [
    "Filtramos que el Limite comunal solo incluya nuestra zona de interes"
   ]
  },
  {
   "cell_type": "code",
   "execution_count": 12,
   "id": "71bf171c",
   "metadata": {},
   "outputs": [
    {
     "data": {
      "text/html": [
       "\n",
       "            <style>\n",
       "                .geemap-dark {\n",
       "                    --jp-widgets-color: white;\n",
       "                    --jp-widgets-label-color: white;\n",
       "                    --jp-ui-font-color1: white;\n",
       "                    --jp-layout-color2: #454545;\n",
       "                    background-color: #383838;\n",
       "                }\n",
       "\n",
       "                .geemap-dark .jupyter-button {\n",
       "                    --jp-layout-color3: #383838;\n",
       "                }\n",
       "\n",
       "                .geemap-colab {\n",
       "                    background-color: var(--colab-primary-surface-color, white);\n",
       "                }\n",
       "\n",
       "                .geemap-colab .jupyter-button {\n",
       "                    --jp-layout-color3: var(--colab-primary-surface-color, white);\n",
       "                }\n",
       "            </style>\n",
       "            "
      ],
      "text/plain": [
       "<IPython.core.display.HTML object>"
      ]
     },
     "metadata": {},
     "output_type": "display_data"
    }
   ],
   "source": [
    "Limite_Comunal['geometry'] = Limite_Comunal.geometry.intersection(roi_shapely)\n",
    "Limite_Comunal = Limite_Comunal[~Limite_Comunal.is_empty]"
   ]
  },
  {
   "cell_type": "code",
   "execution_count": 13,
   "id": "8dea0743",
   "metadata": {},
   "outputs": [
    {
     "data": {
      "text/html": [
       "\n",
       "            <style>\n",
       "                .geemap-dark {\n",
       "                    --jp-widgets-color: white;\n",
       "                    --jp-widgets-label-color: white;\n",
       "                    --jp-ui-font-color1: white;\n",
       "                    --jp-layout-color2: #454545;\n",
       "                    background-color: #383838;\n",
       "                }\n",
       "\n",
       "                .geemap-dark .jupyter-button {\n",
       "                    --jp-layout-color3: #383838;\n",
       "                }\n",
       "\n",
       "                .geemap-colab {\n",
       "                    background-color: var(--colab-primary-surface-color, white);\n",
       "                }\n",
       "\n",
       "                .geemap-colab .jupyter-button {\n",
       "                    --jp-layout-color3: var(--colab-primary-surface-color, white);\n",
       "                }\n",
       "            </style>\n",
       "            "
      ],
      "text/plain": [
       "<IPython.core.display.HTML object>"
      ]
     },
     "metadata": {},
     "output_type": "display_data"
    },
    {
     "data": {
      "application/vnd.jupyter.widget-view+json": {
       "model_id": "47456a3a0b9149fb8947a8cf8863e1ff",
       "version_major": 2,
       "version_minor": 0
      },
      "text/plain": [
       "Map(center=[-33.45, -70.65], controls=(WidgetControl(options=['position', 'transparent_bg'], widget=SearchData…"
      ]
     },
     "execution_count": 13,
     "metadata": {},
     "output_type": "execute_result"
    }
   ],
   "source": [
    "m = geemap.Map(center=[-33.45, -70.65], zoom=12)\n",
    "m.add_gMetro(stgo, \"Santiago Urbano\", style={'color': 'blue', 'fillOpacity': 0.1})\n",
    "m.add_gdf(Limite_Comunal, \"Comunas Recortadas\", style={'color': 'black', 'fillOpacity': 0.4, 'weight': 2})\n",
    "m"
   ]
  },
  {
   "cell_type": "markdown",
   "id": "467307e6",
   "metadata": {},
   "source": [
    "## Metro"
   ]
  },
  {
   "cell_type": "code",
   "execution_count": null,
   "id": "4e61ffc2",
   "metadata": {},
   "outputs": [
    {
     "data": {
      "text/html": [
       "\n",
       "            <style>\n",
       "                .geemap-dark {\n",
       "                    --jp-widgets-color: white;\n",
       "                    --jp-widgets-label-color: white;\n",
       "                    --jp-ui-font-color1: white;\n",
       "                    --jp-layout-color2: #454545;\n",
       "                    background-color: #383838;\n",
       "                }\n",
       "\n",
       "                .geemap-dark .jupyter-button {\n",
       "                    --jp-layout-color3: #383838;\n",
       "                }\n",
       "\n",
       "                .geemap-colab {\n",
       "                    background-color: var(--colab-primary-surface-color, white);\n",
       "                }\n",
       "\n",
       "                .geemap-colab .jupyter-button {\n",
       "                    --jp-layout-color3: var(--colab-primary-surface-color, white);\n",
       "                }\n",
       "            </style>\n",
       "            "
      ],
      "text/plain": [
       "<IPython.core.display.HTML object>"
      ]
     },
     "metadata": {},
     "output_type": "display_data"
    },
    {
     "data": {
      "application/vnd.jupyter.widget-view+json": {
       "model_id": "0f008349dff849e19b4da12df2288886",
       "version_major": 2,
       "version_minor": 0
      },
      "text/plain": [
       "Map(center=[-33.45, -70.65], controls=(WidgetControl(options=['position', 'transparent_bg'], widget=SearchData…"
      ]
     },
     "execution_count": 16,
     "metadata": {},
     "output_type": "execute_result"
    }
   ],
   "source": [
    "df = pd.read_csv(\"Datos/plantilla_metro.csv\", decimal=',')\n",
    "for col in ['Lat Origen', 'Long Origen', 'Lat Destino', 'Long Destino']:\n",
    "    df[col] = df[col].astype(str).str.replace(',', '.').astype(float)\n",
    "\n",
    "df['geometry'] = df.apply(\n",
    "    lambda row: LineString([\n",
    "        (row['Long Origen'], row['Lat Origen']),\n",
    "        (row['Long Destino'], row['Lat Destino'])\n",
    "    ]),\n",
    "    axis=1\n",
    ")\n",
    "\n",
    "Metro = gpd.GeoDataFrame(df, geometry='geometry', crs=\"EPSG:4326\")\n",
    "Metro['linea'] = Metro['linea'].astype(str)\n",
    "\n",
    "# Colores válidos (sin #)\n",
    "colores_lineas = {\n",
    "    '1': 'E1251B',\n",
    "    '2': 'FFD600',\n",
    "    '3': '682600',\n",
    "    '4': '0072BC',\n",
    "    '4A': '5FAEE2',\n",
    "    '5': '365A05',\n",
    "    '6': 'B303DF'\n",
    "}\n",
    "Metro['color'] = Metro['linea'].map(colores_lineas)\n",
    "\n",
    "# Convertir a EE.FeatureCollection con estilos\n",
    "features = []\n",
    "for _, row in Metro.iterrows():\n",
    "    geom = geemap.geopandas_to_ee(gpd.GeoDataFrame([row], crs=\"EPSG:4326\")).geometry()\n",
    "    feature = ee.Feature(geom).set('style', {\n",
    "        'color': row['color'],\n",
    "        'width': 4,\n",
    "        'lineType': 'solid'\n",
    "    })\n",
    "    features.append(feature)\n",
    "\n",
    "fc = ee.FeatureCollection(features)\n",
    "\n",
    "# Agregar al mapa\n",
    "m = geemap.Map(center=[-33.45, -70.65], zoom=12)\n",
    "m.addLayer(fc.style(**{'styleProperty': 'style'}), {}, 'Lineas de Metro')\n",
    "m\n"
   ]
  },
  {
   "cell_type": "code",
   "execution_count": 17,
   "id": "552fc0fa",
   "metadata": {},
   "outputs": [
    {
     "data": {
      "text/html": [
       "\n",
       "            <style>\n",
       "                .geemap-dark {\n",
       "                    --jp-widgets-color: white;\n",
       "                    --jp-widgets-label-color: white;\n",
       "                    --jp-ui-font-color1: white;\n",
       "                    --jp-layout-color2: #454545;\n",
       "                    background-color: #383838;\n",
       "                }\n",
       "\n",
       "                .geemap-dark .jupyter-button {\n",
       "                    --jp-layout-color3: #383838;\n",
       "                }\n",
       "\n",
       "                .geemap-colab {\n",
       "                    background-color: var(--colab-primary-surface-color, white);\n",
       "                }\n",
       "\n",
       "                .geemap-colab .jupyter-button {\n",
       "                    --jp-layout-color3: var(--colab-primary-surface-color, white);\n",
       "                }\n",
       "            </style>\n",
       "            "
      ],
      "text/plain": [
       "<IPython.core.display.HTML object>"
      ]
     },
     "metadata": {},
     "output_type": "display_data"
    },
    {
     "name": "stdout",
     "output_type": "stream",
     "text": [
      "Comunas sin estaciones de metro:\n",
      "['CERRO NAVIA', 'COLINA', 'HUECHURABA', 'LA PINTANA', 'LAMPA', 'LO BARNECHEA', 'LO ESPEJO', 'RENCA', 'VITACURA']\n"
     ]
    }
   ],
   "source": [
    "from shapely.geometry import Point\n",
    "\n",
    "estaciones = pd.concat([\n",
    "    Metro[['Estación Origen', 'Lat Origen', 'Long Origen']].rename(\n",
    "        columns={'Estación Origen': 'Estacion', 'Lat Origen': 'Lat', 'Long Origen': 'Lon'}),\n",
    "    Metro[['Estación Destino', 'Lat Destino', 'Long Destino']].rename(\n",
    "        columns={'Estación Destino': 'Estacion', 'Lat Destino': 'Lat', 'Long Destino': 'Lon'})\n",
    "], ignore_index=True).drop_duplicates(subset=['Estacion'])\n",
    "\n",
    "estaciones['geometry'] = estaciones.apply(lambda row: Point(row['Lon'], row['Lat']), axis=1)\n",
    "gdf_estaciones = gpd.GeoDataFrame(estaciones, geometry='geometry', crs=\"EPSG:4326\")\n",
    "\n",
    "gdf_estaciones_comunas = gpd.sjoin(gdf_estaciones, Limite_Comunal, how='left', predicate='within')\n",
    "\n",
    "conteo = gdf_estaciones_comunas['comuna'].value_counts().sort_index()\n",
    "\n",
    "comunas_todas = Limite_Comunal['comuna'].unique()\n",
    "\n",
    "comunas_sin_metro = set(comunas_todas) - set(conteo.index)\n",
    "\n",
    "#print(\"Estaciones de metro por comuna:\")\n",
    "#print(conteo)\n",
    "print(\"Comunas sin estaciones de metro:\")\n",
    "print(sorted(comunas_sin_metro))\n"
   ]
  },
  {
   "cell_type": "code",
   "execution_count": 19,
   "id": "333ab908",
   "metadata": {},
   "outputs": [
    {
     "data": {
      "text/html": [
       "\n",
       "            <style>\n",
       "                .geemap-dark {\n",
       "                    --jp-widgets-color: white;\n",
       "                    --jp-widgets-label-color: white;\n",
       "                    --jp-ui-font-color1: white;\n",
       "                    --jp-layout-color2: #454545;\n",
       "                    background-color: #383838;\n",
       "                }\n",
       "\n",
       "                .geemap-dark .jupyter-button {\n",
       "                    --jp-layout-color3: #383838;\n",
       "                }\n",
       "\n",
       "                .geemap-colab {\n",
       "                    background-color: var(--colab-primary-surface-color, white);\n",
       "                }\n",
       "\n",
       "                .geemap-colab .jupyter-button {\n",
       "                    --jp-layout-color3: var(--colab-primary-surface-color, white);\n",
       "                }\n",
       "            </style>\n",
       "            "
      ],
      "text/plain": [
       "<IPython.core.display.HTML object>"
      ]
     },
     "metadata": {},
     "output_type": "display_data"
    },
    {
     "name": "stdout",
     "output_type": "stream",
     "text": [
      "DES_COMU\n",
      "CERRO NAVIA     120684\n",
      "HUECHURABA       51721\n",
      "LA PINTANA      174065\n",
      "LAMPA                4\n",
      "LO BARNECHEA     60448\n",
      "LO ESPEJO        98651\n",
      "RENCA           110913\n",
      "VITACURA         76696\n",
      "Name: PERSONAS, dtype: int64\n",
      "Total de personas en comunas sin metro: 693182\n"
     ]
    }
   ],
   "source": [
    "# Crear personas_por_comuna agrupando por nombre de comuna\n",
    "personas_por_comuna = Manzanas.groupby('DES_COMU')['PERSONAS'].sum()\n",
    "\n",
    "# Filtrar las comunas sin metro en personas_por_comuna\n",
    "personas_sin_metro = personas_por_comuna[personas_por_comuna.index.isin(comunas_sin_metro)]\n",
    "print(personas_sin_metro)\n",
    "print(f\"Total de personas en comunas sin metro: {personas_sin_metro.sum()}\")"
   ]
  }
 ],
 "metadata": {
  "kernelspec": {
   "display_name": "Python 3",
   "language": "python",
   "name": "python3"
  },
  "language_info": {
   "codemirror_mode": {
    "name": "ipython",
    "version": 3
   },
   "file_extension": ".py",
   "mimetype": "text/x-python",
   "name": "python",
   "nbconvert_exporter": "python",
   "pygments_lexer": "ipython3",
   "version": "3.13.3"
  }
 },
 "nbformat": 4,
 "nbformat_minor": 5
}
